{
 "cells": [
  {
   "cell_type": "markdown",
   "id": "92623099",
   "metadata": {},
   "source": [
    "# Movie recommendation system"
   ]
  },
  {
   "cell_type": "markdown",
   "id": "de449033",
   "metadata": {},
   "source": [
    "## Data source"
   ]
  },
  {
   "cell_type": "markdown",
   "id": "50b0a9ba",
   "metadata": {},
   "source": [
    "I used MovieLens 25M dataset provided by GroupLens for this project. This dataset comprises of 25 million movie ratings and 1 million tag applications attributed to 62,000 movies and 162,000 users. Additionally, it includes tag genome data with 15 million relevance scores across 1,129 tags. I mainly used the movies and ratings csv files for my project.\n",
    "\n",
    "Dataset link: https://grouplens.org/datasets/movielens/25m/"
   ]
  },
  {
   "cell_type": "code",
   "execution_count": 1,
   "id": "f90a1d29",
   "metadata": {},
   "outputs": [],
   "source": [
    "import pandas as pd\n",
    "\n",
    "movies = pd.read_csv(\"movies.csv\")"
   ]
  },
  {
   "cell_type": "code",
   "execution_count": 2,
   "id": "aae9c969",
   "metadata": {},
   "outputs": [
    {
     "data": {
      "text/html": [
       "<div>\n",
       "<style scoped>\n",
       "    .dataframe tbody tr th:only-of-type {\n",
       "        vertical-align: middle;\n",
       "    }\n",
       "\n",
       "    .dataframe tbody tr th {\n",
       "        vertical-align: top;\n",
       "    }\n",
       "\n",
       "    .dataframe thead th {\n",
       "        text-align: right;\n",
       "    }\n",
       "</style>\n",
       "<table border=\"1\" class=\"dataframe\">\n",
       "  <thead>\n",
       "    <tr style=\"text-align: right;\">\n",
       "      <th></th>\n",
       "      <th>movieId</th>\n",
       "      <th>title</th>\n",
       "      <th>genres</th>\n",
       "    </tr>\n",
       "  </thead>\n",
       "  <tbody>\n",
       "    <tr>\n",
       "      <th>0</th>\n",
       "      <td>1</td>\n",
       "      <td>Toy Story (1995)</td>\n",
       "      <td>Adventure|Animation|Children|Comedy|Fantasy</td>\n",
       "    </tr>\n",
       "    <tr>\n",
       "      <th>1</th>\n",
       "      <td>2</td>\n",
       "      <td>Jumanji (1995)</td>\n",
       "      <td>Adventure|Children|Fantasy</td>\n",
       "    </tr>\n",
       "    <tr>\n",
       "      <th>2</th>\n",
       "      <td>3</td>\n",
       "      <td>Grumpier Old Men (1995)</td>\n",
       "      <td>Comedy|Romance</td>\n",
       "    </tr>\n",
       "    <tr>\n",
       "      <th>3</th>\n",
       "      <td>4</td>\n",
       "      <td>Waiting to Exhale (1995)</td>\n",
       "      <td>Comedy|Drama|Romance</td>\n",
       "    </tr>\n",
       "    <tr>\n",
       "      <th>4</th>\n",
       "      <td>5</td>\n",
       "      <td>Father of the Bride Part II (1995)</td>\n",
       "      <td>Comedy</td>\n",
       "    </tr>\n",
       "  </tbody>\n",
       "</table>\n",
       "</div>"
      ],
      "text/plain": [
       "   movieId                               title  \\\n",
       "0        1                    Toy Story (1995)   \n",
       "1        2                      Jumanji (1995)   \n",
       "2        3             Grumpier Old Men (1995)   \n",
       "3        4            Waiting to Exhale (1995)   \n",
       "4        5  Father of the Bride Part II (1995)   \n",
       "\n",
       "                                        genres  \n",
       "0  Adventure|Animation|Children|Comedy|Fantasy  \n",
       "1                   Adventure|Children|Fantasy  \n",
       "2                               Comedy|Romance  \n",
       "3                         Comedy|Drama|Romance  \n",
       "4                                       Comedy  "
      ]
     },
     "execution_count": 2,
     "metadata": {},
     "output_type": "execute_result"
    }
   ],
   "source": [
    "movies.head()"
   ]
  },
  {
   "cell_type": "code",
   "execution_count": 3,
   "id": "164134c1",
   "metadata": {},
   "outputs": [
    {
     "data": {
      "text/plain": [
       "movieId    0\n",
       "title      0\n",
       "genres     0\n",
       "dtype: int64"
      ]
     },
     "execution_count": 3,
     "metadata": {},
     "output_type": "execute_result"
    }
   ],
   "source": [
    "# Check missing values\n",
    "movies.isnull().sum()"
   ]
  },
  {
   "cell_type": "markdown",
   "id": "76ef3181",
   "metadata": {},
   "source": [
    "There are no missing values in this dataset"
   ]
  },
  {
   "cell_type": "code",
   "execution_count": 4,
   "id": "d32f10de",
   "metadata": {},
   "outputs": [],
   "source": [
    "import re\n",
    "\n",
    "# Clean the movie titles by removing parentheses or other unwanted characters\n",
    "def clean_title(title):\n",
    "    return re.sub(\"[^a-zA-Z0-9' ]\", \"\", title)"
   ]
  },
  {
   "cell_type": "code",
   "execution_count": 5,
   "id": "dbdb30c6",
   "metadata": {},
   "outputs": [],
   "source": [
    "movies['clean_title'] = movies['title'].apply(clean_title)"
   ]
  },
  {
   "cell_type": "code",
   "execution_count": 6,
   "id": "2579ca0a",
   "metadata": {
    "scrolled": true
   },
   "outputs": [
    {
     "data": {
      "text/html": [
       "<div>\n",
       "<style scoped>\n",
       "    .dataframe tbody tr th:only-of-type {\n",
       "        vertical-align: middle;\n",
       "    }\n",
       "\n",
       "    .dataframe tbody tr th {\n",
       "        vertical-align: top;\n",
       "    }\n",
       "\n",
       "    .dataframe thead th {\n",
       "        text-align: right;\n",
       "    }\n",
       "</style>\n",
       "<table border=\"1\" class=\"dataframe\">\n",
       "  <thead>\n",
       "    <tr style=\"text-align: right;\">\n",
       "      <th></th>\n",
       "      <th>movieId</th>\n",
       "      <th>title</th>\n",
       "      <th>genres</th>\n",
       "      <th>clean_title</th>\n",
       "    </tr>\n",
       "  </thead>\n",
       "  <tbody>\n",
       "    <tr>\n",
       "      <th>0</th>\n",
       "      <td>1</td>\n",
       "      <td>Toy Story (1995)</td>\n",
       "      <td>Adventure|Animation|Children|Comedy|Fantasy</td>\n",
       "      <td>Toy Story 1995</td>\n",
       "    </tr>\n",
       "    <tr>\n",
       "      <th>1</th>\n",
       "      <td>2</td>\n",
       "      <td>Jumanji (1995)</td>\n",
       "      <td>Adventure|Children|Fantasy</td>\n",
       "      <td>Jumanji 1995</td>\n",
       "    </tr>\n",
       "    <tr>\n",
       "      <th>2</th>\n",
       "      <td>3</td>\n",
       "      <td>Grumpier Old Men (1995)</td>\n",
       "      <td>Comedy|Romance</td>\n",
       "      <td>Grumpier Old Men 1995</td>\n",
       "    </tr>\n",
       "    <tr>\n",
       "      <th>3</th>\n",
       "      <td>4</td>\n",
       "      <td>Waiting to Exhale (1995)</td>\n",
       "      <td>Comedy|Drama|Romance</td>\n",
       "      <td>Waiting to Exhale 1995</td>\n",
       "    </tr>\n",
       "    <tr>\n",
       "      <th>4</th>\n",
       "      <td>5</td>\n",
       "      <td>Father of the Bride Part II (1995)</td>\n",
       "      <td>Comedy</td>\n",
       "      <td>Father of the Bride Part II 1995</td>\n",
       "    </tr>\n",
       "    <tr>\n",
       "      <th>...</th>\n",
       "      <td>...</td>\n",
       "      <td>...</td>\n",
       "      <td>...</td>\n",
       "      <td>...</td>\n",
       "    </tr>\n",
       "    <tr>\n",
       "      <th>62418</th>\n",
       "      <td>209157</td>\n",
       "      <td>We (2018)</td>\n",
       "      <td>Drama</td>\n",
       "      <td>We 2018</td>\n",
       "    </tr>\n",
       "    <tr>\n",
       "      <th>62419</th>\n",
       "      <td>209159</td>\n",
       "      <td>Window of the Soul (2001)</td>\n",
       "      <td>Documentary</td>\n",
       "      <td>Window of the Soul 2001</td>\n",
       "    </tr>\n",
       "    <tr>\n",
       "      <th>62420</th>\n",
       "      <td>209163</td>\n",
       "      <td>Bad Poems (2018)</td>\n",
       "      <td>Comedy|Drama</td>\n",
       "      <td>Bad Poems 2018</td>\n",
       "    </tr>\n",
       "    <tr>\n",
       "      <th>62421</th>\n",
       "      <td>209169</td>\n",
       "      <td>A Girl Thing (2001)</td>\n",
       "      <td>(no genres listed)</td>\n",
       "      <td>A Girl Thing 2001</td>\n",
       "    </tr>\n",
       "    <tr>\n",
       "      <th>62422</th>\n",
       "      <td>209171</td>\n",
       "      <td>Women of Devil's Island (1962)</td>\n",
       "      <td>Action|Adventure|Drama</td>\n",
       "      <td>Women of Devil's Island 1962</td>\n",
       "    </tr>\n",
       "  </tbody>\n",
       "</table>\n",
       "<p>62423 rows × 4 columns</p>\n",
       "</div>"
      ],
      "text/plain": [
       "       movieId                               title  \\\n",
       "0            1                    Toy Story (1995)   \n",
       "1            2                      Jumanji (1995)   \n",
       "2            3             Grumpier Old Men (1995)   \n",
       "3            4            Waiting to Exhale (1995)   \n",
       "4            5  Father of the Bride Part II (1995)   \n",
       "...        ...                                 ...   \n",
       "62418   209157                           We (2018)   \n",
       "62419   209159           Window of the Soul (2001)   \n",
       "62420   209163                    Bad Poems (2018)   \n",
       "62421   209169                 A Girl Thing (2001)   \n",
       "62422   209171      Women of Devil's Island (1962)   \n",
       "\n",
       "                                            genres  \\\n",
       "0      Adventure|Animation|Children|Comedy|Fantasy   \n",
       "1                       Adventure|Children|Fantasy   \n",
       "2                                   Comedy|Romance   \n",
       "3                             Comedy|Drama|Romance   \n",
       "4                                           Comedy   \n",
       "...                                            ...   \n",
       "62418                                        Drama   \n",
       "62419                                  Documentary   \n",
       "62420                                 Comedy|Drama   \n",
       "62421                           (no genres listed)   \n",
       "62422                       Action|Adventure|Drama   \n",
       "\n",
       "                            clean_title  \n",
       "0                        Toy Story 1995  \n",
       "1                          Jumanji 1995  \n",
       "2                 Grumpier Old Men 1995  \n",
       "3                Waiting to Exhale 1995  \n",
       "4      Father of the Bride Part II 1995  \n",
       "...                                 ...  \n",
       "62418                           We 2018  \n",
       "62419           Window of the Soul 2001  \n",
       "62420                    Bad Poems 2018  \n",
       "62421                 A Girl Thing 2001  \n",
       "62422      Women of Devil's Island 1962  \n",
       "\n",
       "[62423 rows x 4 columns]"
      ]
     },
     "execution_count": 6,
     "metadata": {},
     "output_type": "execute_result"
    }
   ],
   "source": [
    "movies"
   ]
  },
  {
   "cell_type": "code",
   "execution_count": 7,
   "id": "7cf97744",
   "metadata": {},
   "outputs": [],
   "source": [
    "ratings = pd.read_csv('ratings.csv')"
   ]
  },
  {
   "cell_type": "code",
   "execution_count": 8,
   "id": "c8166356",
   "metadata": {},
   "outputs": [
    {
     "data": {
      "text/html": [
       "<div>\n",
       "<style scoped>\n",
       "    .dataframe tbody tr th:only-of-type {\n",
       "        vertical-align: middle;\n",
       "    }\n",
       "\n",
       "    .dataframe tbody tr th {\n",
       "        vertical-align: top;\n",
       "    }\n",
       "\n",
       "    .dataframe thead th {\n",
       "        text-align: right;\n",
       "    }\n",
       "</style>\n",
       "<table border=\"1\" class=\"dataframe\">\n",
       "  <thead>\n",
       "    <tr style=\"text-align: right;\">\n",
       "      <th></th>\n",
       "      <th>userId</th>\n",
       "      <th>movieId</th>\n",
       "      <th>rating</th>\n",
       "      <th>timestamp</th>\n",
       "    </tr>\n",
       "  </thead>\n",
       "  <tbody>\n",
       "    <tr>\n",
       "      <th>0</th>\n",
       "      <td>1</td>\n",
       "      <td>296</td>\n",
       "      <td>5.0</td>\n",
       "      <td>1147880044</td>\n",
       "    </tr>\n",
       "    <tr>\n",
       "      <th>1</th>\n",
       "      <td>1</td>\n",
       "      <td>306</td>\n",
       "      <td>3.5</td>\n",
       "      <td>1147868817</td>\n",
       "    </tr>\n",
       "    <tr>\n",
       "      <th>2</th>\n",
       "      <td>1</td>\n",
       "      <td>307</td>\n",
       "      <td>5.0</td>\n",
       "      <td>1147868828</td>\n",
       "    </tr>\n",
       "    <tr>\n",
       "      <th>3</th>\n",
       "      <td>1</td>\n",
       "      <td>665</td>\n",
       "      <td>5.0</td>\n",
       "      <td>1147878820</td>\n",
       "    </tr>\n",
       "    <tr>\n",
       "      <th>4</th>\n",
       "      <td>1</td>\n",
       "      <td>899</td>\n",
       "      <td>3.5</td>\n",
       "      <td>1147868510</td>\n",
       "    </tr>\n",
       "  </tbody>\n",
       "</table>\n",
       "</div>"
      ],
      "text/plain": [
       "   userId  movieId  rating   timestamp\n",
       "0       1      296     5.0  1147880044\n",
       "1       1      306     3.5  1147868817\n",
       "2       1      307     5.0  1147868828\n",
       "3       1      665     5.0  1147878820\n",
       "4       1      899     3.5  1147868510"
      ]
     },
     "execution_count": 8,
     "metadata": {},
     "output_type": "execute_result"
    }
   ],
   "source": [
    "ratings.head()"
   ]
  },
  {
   "cell_type": "code",
   "execution_count": 9,
   "id": "aeb742b4",
   "metadata": {},
   "outputs": [
    {
     "data": {
      "text/plain": [
       "userId       0\n",
       "movieId      0\n",
       "rating       0\n",
       "timestamp    0\n",
       "dtype: int64"
      ]
     },
     "execution_count": 9,
     "metadata": {},
     "output_type": "execute_result"
    }
   ],
   "source": [
    "# Check missing values\n",
    "ratings.isnull().sum()"
   ]
  },
  {
   "cell_type": "code",
   "execution_count": 10,
   "id": "fd4f4bc4",
   "metadata": {},
   "outputs": [
    {
     "data": {
      "text/plain": [
       "userId         int64\n",
       "movieId        int64\n",
       "rating       float64\n",
       "timestamp      int64\n",
       "dtype: object"
      ]
     },
     "execution_count": 10,
     "metadata": {},
     "output_type": "execute_result"
    }
   ],
   "source": [
    "ratings.dtypes"
   ]
  },
  {
   "cell_type": "markdown",
   "id": "1595b092",
   "metadata": {},
   "source": [
    "# Exploratory data analysis"
   ]
  },
  {
   "cell_type": "code",
   "execution_count": 11,
   "id": "4d0ea44e",
   "metadata": {},
   "outputs": [],
   "source": [
    "import matplotlib.pyplot as plt\n",
    "import seaborn as sns"
   ]
  },
  {
   "cell_type": "code",
   "execution_count": 12,
   "id": "4600a11a",
   "metadata": {},
   "outputs": [
    {
     "name": "stdout",
     "output_type": "stream",
     "text": [
      "Number of ratings: 25000095\n",
      "Number of unique movies: 59047\n",
      "Number of unique users: 162541\n",
      "Average number of ratings per user: 153.81\n",
      "Average number of ratings per movie: 423.39\n"
     ]
    }
   ],
   "source": [
    "ratings_number = len(ratings)\n",
    "movie_number = ratings['movieId'].nunique()\n",
    "user_number = ratings['userId'].nunique()\n",
    "\n",
    "print(f\"Number of ratings: {ratings_number}\")\n",
    "print(f\"Number of unique movies: {movie_number}\")\n",
    "print(f\"Number of unique users: {user_number}\")\n",
    "print(f\"Average number of ratings per user: {round(ratings_number/user_number, 2)}\")\n",
    "print(f\"Average number of ratings per movie: {round(ratings_number/movie_number, 2)}\")"
   ]
  },
  {
   "cell_type": "code",
   "execution_count": 13,
   "id": "a3b64a77",
   "metadata": {},
   "outputs": [
    {
     "data": {
      "image/png": "[encoded data removed]",
      "text/plain": [
       "<Figure size 640x480 with 1 Axes>"
      ]
     },
     "metadata": {},
     "output_type": "display_data"
    }
   ],
   "source": [
    "#distribution of movie ratings\n",
    "\n",
    "sns.countplot(x='rating', data=ratings)\n",
    "plt.title(\"Distribution of movie ratings\", fontsize=14)\n",
    "plt.ticklabel_format(style='plain', axis='y')\n",
    "plt.show()"
   ]
  },
  {
   "cell_type": "code",
   "execution_count": 14,
   "id": "9c8cfd74",
   "metadata": {},
   "outputs": [
    {
     "name": "stdout",
     "output_type": "stream",
     "text": [
      "Average movie rating: 3.53\n",
      "Average movie rating per user: 3.68\n"
     ]
    }
   ],
   "source": [
    "# Average movie rating\n",
    "print(f\"Average movie rating: {round(ratings['rating'].mean(), 2)}\")\n",
    "\n",
    "# Average movie rating per user\n",
    "avg_rating_per_user = ratings.groupby('userId')['rating'].mean()\n",
    "\n",
    "print(f\"Average movie rating per user: {round(avg_rating_per_user.mean(),2)}\")"
   ]
  },
  {
   "cell_type": "code",
   "execution_count": 15,
   "id": "d7a7ff97",
   "metadata": {},
   "outputs": [
    {
     "data": {
      "text/plain": [
       "Forrest Gump (1994)                          81491\n",
       "Shawshank Redemption, The (1994)             81482\n",
       "Pulp Fiction (1994)                          79672\n",
       "Silence of the Lambs, The (1991)             74127\n",
       "Matrix, The (1999)                           72674\n",
       "Star Wars: Episode IV - A New Hope (1977)    68717\n",
       "Jurassic Park (1993)                         64144\n",
       "Schindler's List (1993)                      60411\n",
       "Braveheart (1995)                            59184\n",
       "Fight Club (1999)                            58773\n",
       "Name: title, dtype: int64"
      ]
     },
     "execution_count": 15,
     "metadata": {},
     "output_type": "execute_result"
    }
   ],
   "source": [
    "# Most frequently rated movies\n",
    "movie_ratings = ratings.merge(movies, on='movieId')\n",
    "movie_ratings['title'].value_counts()[0:10]"
   ]
  },
  {
   "cell_type": "markdown",
   "id": "67418710",
   "metadata": {},
   "source": [
    "Forrest Gump (1994), Shawshank Redemption (1994), Pulp Fiction (1994), Silence of the Lambs (1991), and The Matrix (1999) are the 5 most frequently rated movies in this dataset"
   ]
  },
  {
   "cell_type": "code",
   "execution_count": 16,
   "id": "08c2e4ec",
   "metadata": {},
   "outputs": [
    {
     "data": {
      "text/html": [
       "<div>\n",
       "<style scoped>\n",
       "    .dataframe tbody tr th:only-of-type {\n",
       "        vertical-align: middle;\n",
       "    }\n",
       "\n",
       "    .dataframe tbody tr th {\n",
       "        vertical-align: top;\n",
       "    }\n",
       "\n",
       "    .dataframe thead th {\n",
       "        text-align: right;\n",
       "    }\n",
       "</style>\n",
       "<table border=\"1\" class=\"dataframe\">\n",
       "  <thead>\n",
       "    <tr style=\"text-align: right;\">\n",
       "      <th></th>\n",
       "      <th>userId</th>\n",
       "      <th>movieId</th>\n",
       "      <th>rating</th>\n",
       "      <th>timestamp</th>\n",
       "      <th>title</th>\n",
       "      <th>genres</th>\n",
       "      <th>clean_title</th>\n",
       "    </tr>\n",
       "  </thead>\n",
       "  <tbody>\n",
       "    <tr>\n",
       "      <th>24979429</th>\n",
       "      <td>70460</td>\n",
       "      <td>5805</td>\n",
       "      <td>0.5</td>\n",
       "      <td>1092107651</td>\n",
       "      <td>Besotted (2001)</td>\n",
       "      <td>Drama</td>\n",
       "      <td>Besotted 2001</td>\n",
       "    </tr>\n",
       "    <tr>\n",
       "      <th>24979430</th>\n",
       "      <td>143315</td>\n",
       "      <td>5805</td>\n",
       "      <td>0.5</td>\n",
       "      <td>1184971591</td>\n",
       "      <td>Besotted (2001)</td>\n",
       "      <td>Drama</td>\n",
       "      <td>Besotted 2001</td>\n",
       "    </tr>\n",
       "  </tbody>\n",
       "</table>\n",
       "</div>"
      ],
      "text/plain": [
       "          userId  movieId  rating   timestamp            title genres  \\\n",
       "24979429   70460     5805     0.5  1092107651  Besotted (2001)  Drama   \n",
       "24979430  143315     5805     0.5  1184971591  Besotted (2001)  Drama   \n",
       "\n",
       "            clean_title  \n",
       "24979429  Besotted 2001  \n",
       "24979430  Besotted 2001  "
      ]
     },
     "execution_count": 16,
     "metadata": {},
     "output_type": "execute_result"
    }
   ],
   "source": [
    "# Lowest rated movie\n",
    "avg_movie_rating = ratings.groupby('movieId')[['rating']].mean()\n",
    "lowest_rated = avg_movie_rating['rating'].idxmin()\n",
    "movie_ratings[movie_ratings['movieId']== lowest_rated]\n",
    "\n"
   ]
  },
  {
   "cell_type": "markdown",
   "id": "8df81cea",
   "metadata": {},
   "source": [
    "Besotted (2001) was the lowest rated movie with a 0.5/5 rating"
   ]
  },
  {
   "cell_type": "code",
   "execution_count": 17,
   "id": "c349c41c",
   "metadata": {},
   "outputs": [
    {
     "data": {
      "text/html": [
       "<div>\n",
       "<style scoped>\n",
       "    .dataframe tbody tr th:only-of-type {\n",
       "        vertical-align: middle;\n",
       "    }\n",
       "\n",
       "    .dataframe tbody tr th {\n",
       "        vertical-align: top;\n",
       "    }\n",
       "\n",
       "    .dataframe thead th {\n",
       "        text-align: right;\n",
       "    }\n",
       "</style>\n",
       "<table border=\"1\" class=\"dataframe\">\n",
       "  <thead>\n",
       "    <tr style=\"text-align: right;\">\n",
       "      <th></th>\n",
       "      <th>userId</th>\n",
       "      <th>movieId</th>\n",
       "      <th>rating</th>\n",
       "      <th>timestamp</th>\n",
       "      <th>title</th>\n",
       "      <th>genres</th>\n",
       "      <th>clean_title</th>\n",
       "    </tr>\n",
       "  </thead>\n",
       "  <tbody>\n",
       "    <tr>\n",
       "      <th>24998139</th>\n",
       "      <td>125475</td>\n",
       "      <td>27914</td>\n",
       "      <td>5.0</td>\n",
       "      <td>1409649085</td>\n",
       "      <td>Hijacking Catastrophe: 9/11, Fear &amp; the Sellin...</td>\n",
       "      <td>Documentary</td>\n",
       "      <td>Hijacking Catastrophe 911 Fear  the Selling of...</td>\n",
       "    </tr>\n",
       "  </tbody>\n",
       "</table>\n",
       "</div>"
      ],
      "text/plain": [
       "          userId  movieId  rating   timestamp  \\\n",
       "24998139  125475    27914     5.0  1409649085   \n",
       "\n",
       "                                                      title       genres  \\\n",
       "24998139  Hijacking Catastrophe: 9/11, Fear & the Sellin...  Documentary   \n",
       "\n",
       "                                                clean_title  \n",
       "24998139  Hijacking Catastrophe 911 Fear  the Selling of...  "
      ]
     },
     "execution_count": 17,
     "metadata": {},
     "output_type": "execute_result"
    }
   ],
   "source": [
    "# Highest rated movie\n",
    "highest_rated = avg_movie_rating['rating'].idxmax()\n",
    "movie_ratings[movie_ratings['movieId']== highest_rated]"
   ]
  },
  {
   "cell_type": "markdown",
   "id": "dcf44e85",
   "metadata": {},
   "source": [
    "The highest rated documentary was Hijacking Catastrophe: 9/11, Fear and the Selling of American Empire with a rating of 5"
   ]
  },
  {
   "cell_type": "markdown",
   "id": "53f309c3",
   "metadata": {},
   "source": [
    "But the lowest rated movie had only 2 ratings and highest rated movie had only 1 rating. This is misleading the average rating. A better approach would be to look at the bayesian average to estimate a more accurate average value"
   ]
  },
  {
   "cell_type": "code",
   "execution_count": 18,
   "id": "f19a80f5",
   "metadata": {},
   "outputs": [
    {
     "data": {
      "text/html": [
       "<div>\n",
       "<style scoped>\n",
       "    .dataframe tbody tr th:only-of-type {\n",
       "        vertical-align: middle;\n",
       "    }\n",
       "\n",
       "    .dataframe tbody tr th {\n",
       "        vertical-align: top;\n",
       "    }\n",
       "\n",
       "    .dataframe thead th {\n",
       "        text-align: right;\n",
       "    }\n",
       "</style>\n",
       "<table border=\"1\" class=\"dataframe\">\n",
       "  <thead>\n",
       "    <tr style=\"text-align: right;\">\n",
       "      <th></th>\n",
       "      <th>count</th>\n",
       "      <th>mean</th>\n",
       "    </tr>\n",
       "    <tr>\n",
       "      <th>movieId</th>\n",
       "      <th></th>\n",
       "      <th></th>\n",
       "    </tr>\n",
       "  </thead>\n",
       "  <tbody>\n",
       "    <tr>\n",
       "      <th>1</th>\n",
       "      <td>57309</td>\n",
       "      <td>3.893708</td>\n",
       "    </tr>\n",
       "    <tr>\n",
       "      <th>2</th>\n",
       "      <td>24228</td>\n",
       "      <td>3.251527</td>\n",
       "    </tr>\n",
       "    <tr>\n",
       "      <th>3</th>\n",
       "      <td>11804</td>\n",
       "      <td>3.142028</td>\n",
       "    </tr>\n",
       "    <tr>\n",
       "      <th>4</th>\n",
       "      <td>2523</td>\n",
       "      <td>2.853547</td>\n",
       "    </tr>\n",
       "    <tr>\n",
       "      <th>5</th>\n",
       "      <td>11714</td>\n",
       "      <td>3.058434</td>\n",
       "    </tr>\n",
       "  </tbody>\n",
       "</table>\n",
       "</div>"
      ],
      "text/plain": [
       "         count      mean\n",
       "movieId                 \n",
       "1        57309  3.893708\n",
       "2        24228  3.251527\n",
       "3        11804  3.142028\n",
       "4         2523  2.853547\n",
       "5        11714  3.058434"
      ]
     },
     "execution_count": 18,
     "metadata": {},
     "output_type": "execute_result"
    }
   ],
   "source": [
    "movie_stats = ratings.groupby('movieId')['rating'].agg(['count', 'mean'])\n",
    "movie_stats.head()"
   ]
  },
  {
   "cell_type": "code",
   "execution_count": 19,
   "id": "41f3023b",
   "metadata": {},
   "outputs": [],
   "source": [
    "# Bayesian average function\n",
    "C = movie_stats['count'].mean()\n",
    "m = movie_stats['mean'].mean()\n",
    "\n",
    "def bayesian_avg(ratings):\n",
    "    bayesian_avg = (C*m+ratings.sum())/(C+ratings.count())\n",
    "    return round(bayesian_avg, 3)"
   ]
  },
  {
   "cell_type": "code",
   "execution_count": 20,
   "id": "a651896a",
   "metadata": {},
   "outputs": [
    {
     "data": {
      "text/plain": [
       "3.076"
      ]
     },
     "execution_count": 20,
     "metadata": {},
     "output_type": "execute_result"
    }
   ],
   "source": [
    "Hijacking_Catastrophe = pd.Series(5)\n",
    "\n",
    "bayesian_avg(Hijacking_Catastrophe)"
   ]
  },
  {
   "cell_type": "markdown",
   "id": "2f331287",
   "metadata": {},
   "source": [
    "Hijacking Catastrophe: 9/11, Fear and the Selling of American Empire actually has a bayesian average of only 3.076. So it is not the most popular highest rated movie in the dataset"
   ]
  },
  {
   "cell_type": "code",
   "execution_count": 21,
   "id": "d9dec9a1",
   "metadata": {},
   "outputs": [
    {
     "data": {
      "text/html": [
       "<div>\n",
       "<style scoped>\n",
       "    .dataframe tbody tr th:only-of-type {\n",
       "        vertical-align: middle;\n",
       "    }\n",
       "\n",
       "    .dataframe tbody tr th {\n",
       "        vertical-align: top;\n",
       "    }\n",
       "\n",
       "    .dataframe thead th {\n",
       "        text-align: right;\n",
       "    }\n",
       "</style>\n",
       "<table border=\"1\" class=\"dataframe\">\n",
       "  <thead>\n",
       "    <tr style=\"text-align: right;\">\n",
       "      <th></th>\n",
       "      <th>movieId</th>\n",
       "      <th>count</th>\n",
       "      <th>mean</th>\n",
       "      <th>bayesian_avg</th>\n",
       "      <th>title</th>\n",
       "    </tr>\n",
       "  </thead>\n",
       "  <tbody>\n",
       "    <tr>\n",
       "      <th>314</th>\n",
       "      <td>318</td>\n",
       "      <td>81482</td>\n",
       "      <td>4.413576</td>\n",
       "      <td>4.407</td>\n",
       "      <td>Shawshank Redemption, The (1994)</td>\n",
       "    </tr>\n",
       "    <tr>\n",
       "      <th>840</th>\n",
       "      <td>858</td>\n",
       "      <td>52498</td>\n",
       "      <td>4.324336</td>\n",
       "      <td>4.314</td>\n",
       "      <td>Godfather, The (1972)</td>\n",
       "    </tr>\n",
       "    <tr>\n",
       "      <th>49</th>\n",
       "      <td>50</td>\n",
       "      <td>55366</td>\n",
       "      <td>4.284353</td>\n",
       "      <td>4.275</td>\n",
       "      <td>Usual Suspects, The (1995)</td>\n",
       "    </tr>\n",
       "    <tr>\n",
       "      <th>1190</th>\n",
       "      <td>1221</td>\n",
       "      <td>34188</td>\n",
       "      <td>4.261759</td>\n",
       "      <td>4.247</td>\n",
       "      <td>Godfather: Part II, The (1974)</td>\n",
       "    </tr>\n",
       "    <tr>\n",
       "      <th>522</th>\n",
       "      <td>527</td>\n",
       "      <td>60411</td>\n",
       "      <td>4.247579</td>\n",
       "      <td>4.239</td>\n",
       "      <td>Schindler's List (1993)</td>\n",
       "    </tr>\n",
       "  </tbody>\n",
       "</table>\n",
       "</div>"
      ],
      "text/plain": [
       "      movieId  count      mean  bayesian_avg                             title\n",
       "314       318  81482  4.413576         4.407  Shawshank Redemption, The (1994)\n",
       "840       858  52498  4.324336         4.314             Godfather, The (1972)\n",
       "49         50  55366  4.284353         4.275        Usual Suspects, The (1995)\n",
       "1190     1221  34188  4.261759         4.247    Godfather: Part II, The (1974)\n",
       "522       527  60411  4.247579         4.239           Schindler's List (1993)"
      ]
     },
     "execution_count": 21,
     "metadata": {},
     "output_type": "execute_result"
    }
   ],
   "source": [
    "# Calculate bayesian average for all movies\n",
    "bayesian_avg_ratings = ratings.groupby('movieId')['rating'].agg(bayesian_avg).reset_index()\n",
    "\n",
    "# Add bayesian average column to movie_stats df\n",
    "bayesian_avg_ratings.columns = ['movieId', 'bayesian_avg']\n",
    "movie_stats = movie_stats.merge(bayesian_avg_ratings, on='movieId')\n",
    "movie_stats = movie_stats.merge(movies[['movieId', 'title']])\n",
    "\n",
    "# Highest rated movie using bayesian average\n",
    "movie_stats.sort_values('bayesian_avg', ascending=False).head()"
   ]
  },
  {
   "cell_type": "markdown",
   "id": "fdf4b4b6",
   "metadata": {},
   "source": [
    "The Shawshank Redemption (1994), The Godfather (1972), and The Usual Suspects (1995) are the highest rated movies using bayesian average. This reflects more accurate popular movies "
   ]
  },
  {
   "cell_type": "code",
   "execution_count": 22,
   "id": "ecdbcf63",
   "metadata": {},
   "outputs": [
    {
     "data": {
      "text/html": [
       "<div>\n",
       "<style scoped>\n",
       "    .dataframe tbody tr th:only-of-type {\n",
       "        vertical-align: middle;\n",
       "    }\n",
       "\n",
       "    .dataframe tbody tr th {\n",
       "        vertical-align: top;\n",
       "    }\n",
       "\n",
       "    .dataframe thead th {\n",
       "        text-align: right;\n",
       "    }\n",
       "</style>\n",
       "<table border=\"1\" class=\"dataframe\">\n",
       "  <thead>\n",
       "    <tr style=\"text-align: right;\">\n",
       "      <th></th>\n",
       "      <th>movieId</th>\n",
       "      <th>count</th>\n",
       "      <th>mean</th>\n",
       "      <th>bayesian_avg</th>\n",
       "      <th>title</th>\n",
       "    </tr>\n",
       "  </thead>\n",
       "  <tbody>\n",
       "    <tr>\n",
       "      <th>3494</th>\n",
       "      <td>3593</td>\n",
       "      <td>4268</td>\n",
       "      <td>1.578374</td>\n",
       "      <td>1.713</td>\n",
       "      <td>Battlefield Earth (2000)</td>\n",
       "    </tr>\n",
       "    <tr>\n",
       "      <th>6464</th>\n",
       "      <td>6587</td>\n",
       "      <td>758</td>\n",
       "      <td>1.214380</td>\n",
       "      <td>1.880</td>\n",
       "      <td>Gigli (2003)</td>\n",
       "    </tr>\n",
       "    <tr>\n",
       "      <th>4669</th>\n",
       "      <td>4775</td>\n",
       "      <td>669</td>\n",
       "      <td>1.125561</td>\n",
       "      <td>1.880</td>\n",
       "      <td>Glitter (2001)</td>\n",
       "    </tr>\n",
       "    <tr>\n",
       "      <th>11349</th>\n",
       "      <td>50798</td>\n",
       "      <td>1180</td>\n",
       "      <td>1.457203</td>\n",
       "      <td>1.883</td>\n",
       "      <td>Epic Movie (2007)</td>\n",
       "    </tr>\n",
       "    <tr>\n",
       "      <th>9603</th>\n",
       "      <td>31698</td>\n",
       "      <td>633</td>\n",
       "      <td>1.232227</td>\n",
       "      <td>1.969</td>\n",
       "      <td>Son of the Mask (2005)</td>\n",
       "    </tr>\n",
       "  </tbody>\n",
       "</table>\n",
       "</div>"
      ],
      "text/plain": [
       "       movieId  count      mean  bayesian_avg                     title\n",
       "3494      3593   4268  1.578374         1.713  Battlefield Earth (2000)\n",
       "6464      6587    758  1.214380         1.880              Gigli (2003)\n",
       "4669      4775    669  1.125561         1.880            Glitter (2001)\n",
       "11349    50798   1180  1.457203         1.883         Epic Movie (2007)\n",
       "9603     31698    633  1.232227         1.969    Son of the Mask (2005)"
      ]
     },
     "execution_count": 22,
     "metadata": {},
     "output_type": "execute_result"
    }
   ],
   "source": [
    "# Lowest rated movie using bayesian average\n",
    "movie_stats.sort_values('bayesian_avg', ascending=True).head()"
   ]
  },
  {
   "cell_type": "markdown",
   "id": "e8d4d6d3",
   "metadata": {},
   "source": [
    "Battlefield Earth (2000), Gigli (2003), and Glitter (2001) are the worst rated movies with below 2.0 ratings. Besotted (2001) wasn't so bad after all"
   ]
  },
  {
   "cell_type": "code",
   "execution_count": 23,
   "id": "90c48d74",
   "metadata": {},
   "outputs": [
    {
     "data": {
      "text/html": [
       "<div>\n",
       "<style scoped>\n",
       "    .dataframe tbody tr th:only-of-type {\n",
       "        vertical-align: middle;\n",
       "    }\n",
       "\n",
       "    .dataframe tbody tr th {\n",
       "        vertical-align: top;\n",
       "    }\n",
       "\n",
       "    .dataframe thead th {\n",
       "        text-align: right;\n",
       "    }\n",
       "</style>\n",
       "<table border=\"1\" class=\"dataframe\">\n",
       "  <thead>\n",
       "    <tr style=\"text-align: right;\">\n",
       "      <th></th>\n",
       "      <th>movieId</th>\n",
       "      <th>title</th>\n",
       "      <th>genres</th>\n",
       "      <th>clean_title</th>\n",
       "    </tr>\n",
       "  </thead>\n",
       "  <tbody>\n",
       "    <tr>\n",
       "      <th>0</th>\n",
       "      <td>1</td>\n",
       "      <td>Toy Story (1995)</td>\n",
       "      <td>[Adventure, Animation, Children, Comedy, Fantasy]</td>\n",
       "      <td>Toy Story 1995</td>\n",
       "    </tr>\n",
       "    <tr>\n",
       "      <th>1</th>\n",
       "      <td>2</td>\n",
       "      <td>Jumanji (1995)</td>\n",
       "      <td>[Adventure, Children, Fantasy]</td>\n",
       "      <td>Jumanji 1995</td>\n",
       "    </tr>\n",
       "    <tr>\n",
       "      <th>2</th>\n",
       "      <td>3</td>\n",
       "      <td>Grumpier Old Men (1995)</td>\n",
       "      <td>[Comedy, Romance]</td>\n",
       "      <td>Grumpier Old Men 1995</td>\n",
       "    </tr>\n",
       "    <tr>\n",
       "      <th>3</th>\n",
       "      <td>4</td>\n",
       "      <td>Waiting to Exhale (1995)</td>\n",
       "      <td>[Comedy, Drama, Romance]</td>\n",
       "      <td>Waiting to Exhale 1995</td>\n",
       "    </tr>\n",
       "    <tr>\n",
       "      <th>4</th>\n",
       "      <td>5</td>\n",
       "      <td>Father of the Bride Part II (1995)</td>\n",
       "      <td>[Comedy]</td>\n",
       "      <td>Father of the Bride Part II 1995</td>\n",
       "    </tr>\n",
       "  </tbody>\n",
       "</table>\n",
       "</div>"
      ],
      "text/plain": [
       "   movieId                               title  \\\n",
       "0        1                    Toy Story (1995)   \n",
       "1        2                      Jumanji (1995)   \n",
       "2        3             Grumpier Old Men (1995)   \n",
       "3        4            Waiting to Exhale (1995)   \n",
       "4        5  Father of the Bride Part II (1995)   \n",
       "\n",
       "                                              genres  \\\n",
       "0  [Adventure, Animation, Children, Comedy, Fantasy]   \n",
       "1                     [Adventure, Children, Fantasy]   \n",
       "2                                  [Comedy, Romance]   \n",
       "3                           [Comedy, Drama, Romance]   \n",
       "4                                           [Comedy]   \n",
       "\n",
       "                        clean_title  \n",
       "0                    Toy Story 1995  \n",
       "1                      Jumanji 1995  \n",
       "2             Grumpier Old Men 1995  \n",
       "3            Waiting to Exhale 1995  \n",
       "4  Father of the Bride Part II 1995  "
      ]
     },
     "execution_count": 23,
     "metadata": {},
     "output_type": "execute_result"
    }
   ],
   "source": [
    "# Split movie genres by | and convert into a list\n",
    "movies['genres'] = movies['genres'].apply(lambda x: x.split(\"|\"))\n",
    "movies.head()"
   ]
  },
  {
   "cell_type": "code",
   "execution_count": 24,
   "id": "7ee866d7",
   "metadata": {},
   "outputs": [
    {
     "name": "stdout",
     "output_type": "stream",
     "text": [
      "There are 20 genres\n"
     ]
    },
    {
     "data": {
      "text/plain": [
       "Counter({'Adventure': 4145,\n",
       "         'Animation': 2929,\n",
       "         'Children': 2935,\n",
       "         'Comedy': 16870,\n",
       "         'Fantasy': 2731,\n",
       "         'Romance': 7719,\n",
       "         'Drama': 25606,\n",
       "         'Action': 7348,\n",
       "         'Crime': 5319,\n",
       "         'Thriller': 8654,\n",
       "         'Horror': 5989,\n",
       "         'Mystery': 2925,\n",
       "         'Sci-Fi': 3595,\n",
       "         'IMAX': 195,\n",
       "         'Documentary': 5605,\n",
       "         'War': 1874,\n",
       "         'Musical': 1054,\n",
       "         'Western': 1399,\n",
       "         'Film-Noir': 353,\n",
       "         '(no genres listed)': 5062})"
      ]
     },
     "execution_count": 24,
     "metadata": {},
     "output_type": "execute_result"
    }
   ],
   "source": [
    "from collections import Counter\n",
    "\n",
    "genre_count = Counter(g for genres in movies['genres'] for g in genres)\n",
    "\n",
    "print(f\"There are {len(genre_count)} genres\")\n",
    "\n",
    "genre_count"
   ]
  },
  {
   "cell_type": "code",
   "execution_count": 25,
   "id": "5e8752f7",
   "metadata": {},
   "outputs": [
    {
     "name": "stdout",
     "output_type": "stream",
     "text": [
      "The 5 most common genres: \n",
      " [('Drama', 25606), ('Comedy', 16870), ('Thriller', 8654), ('Romance', 7719), ('Action', 7348)]\n"
     ]
    }
   ],
   "source": [
    "print(\"The 5 most common genres: \\n\", genre_count.most_common(5))"
   ]
  },
  {
   "cell_type": "code",
   "execution_count": 26,
   "id": "d0946731",
   "metadata": {},
   "outputs": [
    {
     "data": {
      "image/png": "[encoded data removed]",
      "text/plain": [
       "<Figure size 640x480 with 1 Axes>"
      ]
     },
     "metadata": {},
     "output_type": "display_data"
    }
   ],
   "source": [
    "genre_count_df = pd.DataFrame([genre_count]).T.reset_index()\n",
    "genre_count_df.columns = ['genre', 'count']\n",
    "\n",
    "sns.barplot(x='genre', y='count', data=genre_count_df.sort_values(by='count', ascending=False))\n",
    "plt.title('Movie distribution by genre')\n",
    "plt.xticks(rotation=90)\n",
    "plt.show()"
   ]
  },
  {
   "cell_type": "markdown",
   "id": "6314d0b1",
   "metadata": {},
   "source": [
    "Drama, comedy, thriller, romance and action are the five most common genres in the dataset"
   ]
  },
  {
   "cell_type": "markdown",
   "id": "ff92597c",
   "metadata": {},
   "source": [
    "# Models"
   ]
  },
  {
   "cell_type": "markdown",
   "id": "e1ecbdc6",
   "metadata": {},
   "source": [
    "## Model 1: Content-based filtering"
   ]
  },
  {
   "cell_type": "code",
   "execution_count": 27,
   "id": "e56124ea",
   "metadata": {},
   "outputs": [],
   "source": [
    "# Apply Inverse Document Frequency to vectorize unique words in titles\n",
    "# The search bar will return titles based on a vector similarity score \n",
    "\n",
    "from sklearn.feature_extraction.text import TfidfVectorizer\n",
    "\n",
    "vectorizer = TfidfVectorizer(ngram_range=(1,2))"
   ]
  },
  {
   "cell_type": "code",
   "execution_count": 28,
   "id": "e668cc46",
   "metadata": {},
   "outputs": [],
   "source": [
    "# Fit tfidf vectorizer to the clean movie titles\n",
    "tfidf = vectorizer.fit_transform(movies['clean_title'])"
   ]
  },
  {
   "cell_type": "code",
   "execution_count": 29,
   "id": "0ed9ecd4",
   "metadata": {},
   "outputs": [],
   "source": [
    "# Create search function\n",
    "from sklearn.metrics.pairwise import cosine_similarity \n",
    "import numpy as np\n",
    "\n",
    "def search_func(title):\n",
    "    title = clean_title(title)\n",
    "    \n",
    "    # Vectorize title and create cosine similarity\n",
    "    title_vec = vectorizer.transform([title])\n",
    "    similarity = cosine_similarity(title_vec, tfidf)\n",
    "    \n",
    "    # Flatten similarity scores\n",
    "    similarity = similarity.flatten()\n",
    "    \n",
    "    # Sort the indices based on similarity scores\n",
    "    indices = np.argsort(similarity)[::-1]\n",
    "    \n",
    "    # Get the top 5 recommendations excluding the input title itself\n",
    "    top_indices = indices[1:6]\n",
    "    results = movies.iloc[top_indices]\n",
    "    return results"
   ]
  },
  {
   "cell_type": "markdown",
   "id": "5de6561e",
   "metadata": {},
   "source": [
    "## Building search bar"
   ]
  },
  {
   "cell_type": "code",
   "execution_count": 30,
   "id": "be8e6b0c",
   "metadata": {},
   "outputs": [
    {
     "data": {
      "application/vnd.jupyter.widget-view+json": {
       "model_id": "1ab555f78c5e4d6eab1977b932085f2d",
       "version_major": 2,
       "version_minor": 0
      },
      "text/plain": [
       "Text(value='Apollo 13', description='Movie title:')"
      ]
     },
     "metadata": {},
     "output_type": "display_data"
    },
    {
     "data": {
      "application/vnd.jupyter.widget-view+json": {
       "model_id": "ef126026cf864a21b9f894336925a935",
       "version_major": 2,
       "version_minor": 0
      },
      "text/plain": [
       "Output()"
      ]
     },
     "metadata": {},
     "output_type": "display_data"
    }
   ],
   "source": [
    "import ipywidgets as widgets\n",
    "from IPython.display import display\n",
    "\n",
    "search_movie_input = widgets.Text(value=\"Apollo 13\", description=\"Movie title:\", disabled=False)\n",
    "\n",
    "search_movie_output = widgets.Output()\n",
    "\n",
    "# Function to get recommended outputs\n",
    "def type_movie(data):\n",
    "    with search_movie_output:\n",
    "        search_movie_output.clear_output()\n",
    "        title = data['new']\n",
    "        if len(title) > 5:\n",
    "            display(search_func(title))\n",
    "            \n",
    "search_movie_input.observe(type_movie, names='value')\n",
    "\n",
    "# Display widget\n",
    "display(search_movie_input, search_movie_output)"
   ]
  },
  {
   "cell_type": "markdown",
   "id": "849bbb97",
   "metadata": {},
   "source": [
    "Search any movie in the above search bar to find out 5 recommended movies"
   ]
  },
  {
   "cell_type": "markdown",
   "id": "989b245c",
   "metadata": {},
   "source": [
    "## Model evaluation"
   ]
  },
  {
   "cell_type": "markdown",
   "id": "3eb34ca4",
   "metadata": {},
   "source": [
    "We will evaluate this model using recall@K, precision@K and F1 score. To calculate Recall@K, we need to define the ground truth for each user, which in this case, are the movies the user has actually seen. Then, we compare the recommendations made by the system to these ground truth movies\n",
    "\n",
    "Let's create some sample ground truth data to evaluate the model"
   ]
  },
  {
   "cell_type": "code",
   "execution_count": 31,
   "id": "392349d7",
   "metadata": {},
   "outputs": [],
   "source": [
    "ground_truth_data = {\n",
    "    'user1': ['The Shawshank Redemption', 'The Godfather', 'The Dark Knight'],\n",
    "    'user2': ['The Godfather', 'The Dark Knight', 'Inception'],\n",
    "    'user3': ['Pulp Fiction', 'Fight Club', 'Forrest Gump'],\n",
    "    'user4': ['The Shawshank Redemption', 'The Godfather', 'Inception'],\n",
    "    'user5': ['The Godfather', 'The Dark Knight', 'Fight Club']\n",
    "}"
   ]
  },
  {
   "cell_type": "code",
   "execution_count": 32,
   "id": "24a42772",
   "metadata": {},
   "outputs": [],
   "source": [
    "# Sample movie data we want to test\n",
    "sample_movies = {\n",
    "    'clean_title': [\n",
    "        'The Shawshank Redemption', 'The Godfather', 'The Dark Knight', \n",
    "        'Inception', 'Pulp Fiction', 'Fight Club', 'Forrest Gump', \n",
    "        'The Matrix', 'Interstellar', 'The Silence of the Lambs',\n",
    "        'Schindler\\'s List', 'The Lord of the Rings: The Fellowship of the Ring',\n",
    "        'The Godfather: Part II', 'The Green Mile', 'Goodfellas'\n",
    "    ]\n",
    "}"
   ]
  },
  {
   "cell_type": "markdown",
   "id": "b811d3dd",
   "metadata": {},
   "source": [
    "Next we'll modify the search_func to accept a user ID and return the recommendations for that user. Then, we'll calculate the Recall@K for each user based on the recommendations generated by the system compared to their ground truth"
   ]
  },
  {
   "cell_type": "code",
   "execution_count": 33,
   "id": "72d45b9a",
   "metadata": {},
   "outputs": [],
   "source": [
    "# TF-IDF vectorization\n",
    "vectorizer2 = TfidfVectorizer(ngram_range=(1,2))\n",
    "tfidf2 = vectorizer2.fit_transform(sample_movies['clean_title'])"
   ]
  },
  {
   "cell_type": "code",
   "execution_count": 63,
   "id": "72151d39",
   "metadata": {},
   "outputs": [],
   "source": [
    "def search_func_eval(user_id, k=10):\n",
    "    seen_movies = ground_truth_data.get(user_id, [])\n",
    "    if not seen_movies:\n",
    "        return \"User not found or no movies seen by the user.\"\n",
    "    \n",
    "    recommendations2 = []\n",
    "    for title in seen_movies:\n",
    "        title_vec2 = vectorizer2.transform([title])\n",
    "        similarity2 = cosine_similarity(title_vec2, tfidf2)\n",
    "        indices2 = np.argsort(similarity2.flatten())[::-1][:k]\n",
    "        results2 = [sample_movies['clean_title'][i] for i in indices2]\n",
    "        recommendations2.extend(results2)\n",
    "\n",
    "    return recommendations2[:k]\n"
   ]
  },
  {
   "cell_type": "markdown",
   "id": "185dbd02",
   "metadata": {},
   "source": [
    "We'll calculate Recall@K for each user"
   ]
  },
  {
   "cell_type": "code",
   "execution_count": 46,
   "id": "871c8160",
   "metadata": {},
   "outputs": [],
   "source": [
    "def calculate_recall_at_k(user_id, k=10):\n",
    "    seen_movies = set(ground_truth_data.get(user_id, []))\n",
    "    if not seen_movies:\n",
    "        return None\n",
    "    \n",
    "    recommendations2 = search_func_eval(user_id, k)\n",
    "    relevant_recommendations = set(recommendations2) & seen_movies\n",
    "    recall_at_k = len(relevant_recommendations) / len(seen_movies)\n",
    "    return recall_at_k"
   ]
  },
  {
   "cell_type": "code",
   "execution_count": 47,
   "id": "28c91f20",
   "metadata": {},
   "outputs": [
    {
     "name": "stdout",
     "output_type": "stream",
     "text": [
      "Average Recall@K: 0.7333333333333332\n"
     ]
    }
   ],
   "source": [
    "# Calculate Recall@K for each user\n",
    "recall_results = {}\n",
    "for user_id in ground_truth_data:\n",
    "    recall_results[user_id] = calculate_recall_at_k(user_id)\n",
    "\n",
    "# Calculate average Recall@K across all users\n",
    "average_recall_at_k = np.mean(list(recall_results.values()))\n",
    "print(\"Average Recall@K:\", average_recall_at_k)"
   ]
  },
  {
   "cell_type": "markdown",
   "id": "cbe909d6",
   "metadata": {},
   "source": [
    "Recall@K gives a measure of how many of the relevant items are present in top K out of all the relevant items, where K is the number of recommendations generated for a user. Our content-based filtering method was able to get an average recall@K value of 0.733"
   ]
  },
  {
   "cell_type": "code",
   "execution_count": 48,
   "id": "2873397c",
   "metadata": {},
   "outputs": [
    {
     "name": "stdout",
     "output_type": "stream",
     "text": [
      "Average Precision@K: 0.21999999999999997\n"
     ]
    }
   ],
   "source": [
    "# Precision@K metric\n",
    "def calculate_precision_at_k(user_id, k=10):\n",
    "    seen_movies = set(ground_truth_data.get(user_id, []))\n",
    "    if not seen_movies:\n",
    "        return None\n",
    "    \n",
    "    recommendations2 = search_func_eval(user_id, k)\n",
    "    relevant_recommendations2 = set(recommendations2) & seen_movies\n",
    "    precision_at_k = len(relevant_recommendations2) / k\n",
    "    return precision_at_k\n",
    "\n",
    "# Calculate Precision@K for each user\n",
    "precision_results = {}\n",
    "for user_id in ground_truth_data:\n",
    "    precision_results[user_id] = calculate_precision_at_k(user_id)\n",
    "\n",
    "# Calculate average Precision@K across all users\n",
    "average_precision_at_k = np.mean(list(precision_results.values()))\n",
    "print(\"Average Precision@K:\", average_precision_at_k)\n"
   ]
  },
  {
   "cell_type": "markdown",
   "id": "3d656403",
   "metadata": {},
   "source": [
    "Precision@K gives a measure of “out of K” items recommended to a user and how many are relevant, where K is the number of recommendations generated for a user. The precision@K metric is 0.22 for this model"
   ]
  },
  {
   "cell_type": "code",
   "execution_count": 49,
   "id": "a5c70b00",
   "metadata": {},
   "outputs": [
    {
     "name": "stdout",
     "output_type": "stream",
     "text": [
      "Average F1 Score@K: 0.3384615384615385\n"
     ]
    }
   ],
   "source": [
    "# F1 score metric\n",
    "\n",
    "def calculate_f1_score_at_k(user_id, k=10):\n",
    "    precision = calculate_precision_at_k(user_id, k)\n",
    "    recall = calculate_recall_at_k(user_id, k)\n",
    "    \n",
    "    if precision is None or recall is None or precision + recall == 0:\n",
    "        return 0\n",
    "    \n",
    "    f1_score_at_k = 2 * (precision * recall) / (precision + recall)\n",
    "    return f1_score_at_k\n",
    "\n",
    "# Calculate F1 Score@K for each user\n",
    "f1_score_results = {}\n",
    "for user_id in ground_truth_data:\n",
    "    f1_score_results[user_id] = calculate_f1_score_at_k(user_id)\n",
    "\n",
    "# Calculate average F1 Score@K across all users\n",
    "average_f1_score_at_k = np.mean(list(f1_score_results.values()))\n",
    "print(\"Average F1 Score@K:\", average_f1_score_at_k)\n"
   ]
  },
  {
   "cell_type": "markdown",
   "id": "90daa728",
   "metadata": {},
   "source": [
    "F1 Score is a combination of Precision and Recall using harmonic mean. The F1 score for this model is 0.34"
   ]
  },
  {
   "cell_type": "markdown",
   "id": "df0ac619",
   "metadata": {},
   "source": [
    "## Model 2: Collaborative filtering "
   ]
  },
  {
   "cell_type": "code",
   "execution_count": 50,
   "id": "a28c7634",
   "metadata": {},
   "outputs": [],
   "source": [
    "movie_id = 1"
   ]
  },
  {
   "cell_type": "code",
   "execution_count": 51,
   "id": "f97a857d",
   "metadata": {},
   "outputs": [],
   "source": [
    "# Find similar users \n",
    "# Similar users watched same movie and  gave it a rating of greater than 4 stars  \n",
    "similar_users = ratings[(ratings['movieId'] == movie_id) & (ratings['rating'] > 4)]['userId'].unique()"
   ]
  },
  {
   "cell_type": "code",
   "execution_count": 52,
   "id": "812ead1f",
   "metadata": {},
   "outputs": [],
   "source": [
    "# Similar users recommended movies \n",
    "# Users that like similar movies as us and we want to find out which movies they rated greater than 4 stars\n",
    "similar_recomm = ratings[(ratings['userId'].isin(similar_users)) & (ratings['rating'] > 4)]['movieId']"
   ]
  },
  {
   "cell_type": "code",
   "execution_count": 53,
   "id": "096b0bab",
   "metadata": {},
   "outputs": [
    {
     "data": {
      "text/plain": [
       "5101            1\n",
       "5105           34\n",
       "5111          110\n",
       "5114          150\n",
       "5127          260\n",
       "            ...  \n",
       "24998854    60069\n",
       "24998861    67997\n",
       "24998876    78499\n",
       "24998884    81591\n",
       "24998888    88129\n",
       "Name: movieId, Length: 1358326, dtype: int64"
      ]
     },
     "execution_count": 53,
     "metadata": {},
     "output_type": "execute_result"
    }
   ],
   "source": [
    "similar_recomm"
   ]
  },
  {
   "cell_type": "code",
   "execution_count": 54,
   "id": "4f3f3701",
   "metadata": {},
   "outputs": [],
   "source": [
    "# Find movies that more than 10% of similar users liked \n",
    "similar_recomm = similar_recomm.value_counts() / len(similar_users)\n",
    "similar_recomm = similar_recomm[similar_recomm > 0.1]"
   ]
  },
  {
   "cell_type": "code",
   "execution_count": 55,
   "id": "1be4977a",
   "metadata": {},
   "outputs": [],
   "source": [
    "# Now we want to differentiate between movies that users similar to us liked compared to movies that everyone liked\n",
    "# We want to recommend movies that more closely match with likings of users similar to us \n",
    "\n",
    "# How much all the users in the dataset liked the movies we liked \n",
    "all_users = ratings[(ratings['movieId'].isin(similar_recomm.index)) & (ratings['rating'] > 4)]"
   ]
  },
  {
   "cell_type": "code",
   "execution_count": 56,
   "id": "78397a55",
   "metadata": {},
   "outputs": [],
   "source": [
    "# All users recommended movies\n",
    "all_users_recomm = all_users['movieId'].value_counts() / len(all_users['userId'].unique())\n"
   ]
  },
  {
   "cell_type": "code",
   "execution_count": 57,
   "id": "25b70c99",
   "metadata": {},
   "outputs": [
    {
     "data": {
      "text/plain": [
       "318      0.342220\n",
       "296      0.284674\n",
       "2571     0.244033\n",
       "356      0.235266\n",
       "593      0.225909\n",
       "           ...   \n",
       "551      0.040918\n",
       "50872    0.039111\n",
       "745      0.037031\n",
       "78499    0.035131\n",
       "2355     0.025091\n",
       "Name: movieId, Length: 113, dtype: float64"
      ]
     },
     "execution_count": 57,
     "metadata": {},
     "output_type": "execute_result"
    }
   ],
   "source": [
    "all_users_recomm"
   ]
  },
  {
   "cell_type": "markdown",
   "id": "f3dc9976",
   "metadata": {},
   "source": [
    "## Creating recommendation score"
   ]
  },
  {
   "cell_type": "code",
   "execution_count": 58,
   "id": "10003372",
   "metadata": {},
   "outputs": [],
   "source": [
    "# Combine % recommendations for similar and all users\n",
    "recomm_score = pd.concat([similar_recomm, all_users_recomm], axis=1)\n",
    "recomm_score.columns = ['similar_users', 'all_users']"
   ]
  },
  {
   "cell_type": "code",
   "execution_count": 59,
   "id": "32ff1858",
   "metadata": {},
   "outputs": [],
   "source": [
    "# Calculate recommendation score\n",
    "recomm_score['score'] = recomm_score['similar_users']/ recomm_score['all_users']\n",
    "recomm_score = recomm_score.sort_values('score', ascending=False)"
   ]
  },
  {
   "cell_type": "code",
   "execution_count": 60,
   "id": "01ef4ecf",
   "metadata": {},
   "outputs": [
    {
     "data": {
      "text/html": [
       "<div>\n",
       "<style scoped>\n",
       "    .dataframe tbody tr th:only-of-type {\n",
       "        vertical-align: middle;\n",
       "    }\n",
       "\n",
       "    .dataframe tbody tr th {\n",
       "        vertical-align: top;\n",
       "    }\n",
       "\n",
       "    .dataframe thead th {\n",
       "        text-align: right;\n",
       "    }\n",
       "</style>\n",
       "<table border=\"1\" class=\"dataframe\">\n",
       "  <thead>\n",
       "    <tr style=\"text-align: right;\">\n",
       "      <th></th>\n",
       "      <th>similar_users</th>\n",
       "      <th>all_users</th>\n",
       "      <th>score</th>\n",
       "      <th>movieId</th>\n",
       "      <th>title</th>\n",
       "      <th>genres</th>\n",
       "      <th>clean_title</th>\n",
       "    </tr>\n",
       "  </thead>\n",
       "  <tbody>\n",
       "    <tr>\n",
       "      <th>0</th>\n",
       "      <td>1.000000</td>\n",
       "      <td>0.124728</td>\n",
       "      <td>8.017414</td>\n",
       "      <td>1</td>\n",
       "      <td>Toy Story (1995)</td>\n",
       "      <td>[Adventure, Animation, Children, Comedy, Fantasy]</td>\n",
       "      <td>Toy Story 1995</td>\n",
       "    </tr>\n",
       "    <tr>\n",
       "      <th>3021</th>\n",
       "      <td>0.280648</td>\n",
       "      <td>0.053706</td>\n",
       "      <td>5.225654</td>\n",
       "      <td>3114</td>\n",
       "      <td>Toy Story 2 (1999)</td>\n",
       "      <td>[Adventure, Animation, Children, Comedy, Fantasy]</td>\n",
       "      <td>Toy Story 2 1999</td>\n",
       "    </tr>\n",
       "    <tr>\n",
       "      <th>2264</th>\n",
       "      <td>0.110539</td>\n",
       "      <td>0.025091</td>\n",
       "      <td>4.405452</td>\n",
       "      <td>2355</td>\n",
       "      <td>Bug's Life, A (1998)</td>\n",
       "      <td>[Adventure, Animation, Children, Comedy]</td>\n",
       "      <td>Bug's Life A 1998</td>\n",
       "    </tr>\n",
       "    <tr>\n",
       "      <th>14813</th>\n",
       "      <td>0.152960</td>\n",
       "      <td>0.035131</td>\n",
       "      <td>4.354038</td>\n",
       "      <td>78499</td>\n",
       "      <td>Toy Story 3 (2010)</td>\n",
       "      <td>[Adventure, Animation, Children, Comedy, Fanta...</td>\n",
       "      <td>Toy Story 3 2010</td>\n",
       "    </tr>\n",
       "    <tr>\n",
       "      <th>4780</th>\n",
       "      <td>0.235147</td>\n",
       "      <td>0.070811</td>\n",
       "      <td>3.320783</td>\n",
       "      <td>4886</td>\n",
       "      <td>Monsters, Inc. (2001)</td>\n",
       "      <td>[Adventure, Animation, Children, Comedy, Fantasy]</td>\n",
       "      <td>Monsters Inc 2001</td>\n",
       "    </tr>\n",
       "    <tr>\n",
       "      <th>580</th>\n",
       "      <td>0.216618</td>\n",
       "      <td>0.067513</td>\n",
       "      <td>3.208539</td>\n",
       "      <td>588</td>\n",
       "      <td>Aladdin (1992)</td>\n",
       "      <td>[Adventure, Animation, Children, Comedy, Musical]</td>\n",
       "      <td>Aladdin 1992</td>\n",
       "    </tr>\n",
       "    <tr>\n",
       "      <th>6258</th>\n",
       "      <td>0.228139</td>\n",
       "      <td>0.072268</td>\n",
       "      <td>3.156862</td>\n",
       "      <td>6377</td>\n",
       "      <td>Finding Nemo (2003)</td>\n",
       "      <td>[Adventure, Animation, Children, Comedy]</td>\n",
       "      <td>Finding Nemo 2003</td>\n",
       "    </tr>\n",
       "    <tr>\n",
       "      <th>587</th>\n",
       "      <td>0.179400</td>\n",
       "      <td>0.059977</td>\n",
       "      <td>2.991150</td>\n",
       "      <td>595</td>\n",
       "      <td>Beauty and the Beast (1991)</td>\n",
       "      <td>[Animation, Children, Fantasy, Musical, Romanc...</td>\n",
       "      <td>Beauty and the Beast 1991</td>\n",
       "    </tr>\n",
       "    <tr>\n",
       "      <th>8246</th>\n",
       "      <td>0.203504</td>\n",
       "      <td>0.068453</td>\n",
       "      <td>2.972889</td>\n",
       "      <td>8961</td>\n",
       "      <td>Incredibles, The (2004)</td>\n",
       "      <td>[Action, Adventure, Animation, Children, Comedy]</td>\n",
       "      <td>Incredibles The 2004</td>\n",
       "    </tr>\n",
       "    <tr>\n",
       "      <th>359</th>\n",
       "      <td>0.253411</td>\n",
       "      <td>0.085764</td>\n",
       "      <td>2.954762</td>\n",
       "      <td>364</td>\n",
       "      <td>Lion King, The (1994)</td>\n",
       "      <td>[Adventure, Animation, Children, Drama, Musica...</td>\n",
       "      <td>Lion King The 1994</td>\n",
       "    </tr>\n",
       "  </tbody>\n",
       "</table>\n",
       "</div>"
      ],
      "text/plain": [
       "       similar_users  all_users     score  movieId  \\\n",
       "0           1.000000   0.124728  8.017414        1   \n",
       "3021        0.280648   0.053706  5.225654     3114   \n",
       "2264        0.110539   0.025091  4.405452     2355   \n",
       "14813       0.152960   0.035131  4.354038    78499   \n",
       "4780        0.235147   0.070811  3.320783     4886   \n",
       "580         0.216618   0.067513  3.208539      588   \n",
       "6258        0.228139   0.072268  3.156862     6377   \n",
       "587         0.179400   0.059977  2.991150      595   \n",
       "8246        0.203504   0.068453  2.972889     8961   \n",
       "359         0.253411   0.085764  2.954762      364   \n",
       "\n",
       "                             title  \\\n",
       "0                 Toy Story (1995)   \n",
       "3021            Toy Story 2 (1999)   \n",
       "2264          Bug's Life, A (1998)   \n",
       "14813           Toy Story 3 (2010)   \n",
       "4780         Monsters, Inc. (2001)   \n",
       "580                 Aladdin (1992)   \n",
       "6258           Finding Nemo (2003)   \n",
       "587    Beauty and the Beast (1991)   \n",
       "8246       Incredibles, The (2004)   \n",
       "359          Lion King, The (1994)   \n",
       "\n",
       "                                                  genres  \\\n",
       "0      [Adventure, Animation, Children, Comedy, Fantasy]   \n",
       "3021   [Adventure, Animation, Children, Comedy, Fantasy]   \n",
       "2264            [Adventure, Animation, Children, Comedy]   \n",
       "14813  [Adventure, Animation, Children, Comedy, Fanta...   \n",
       "4780   [Adventure, Animation, Children, Comedy, Fantasy]   \n",
       "580    [Adventure, Animation, Children, Comedy, Musical]   \n",
       "6258            [Adventure, Animation, Children, Comedy]   \n",
       "587    [Animation, Children, Fantasy, Musical, Romanc...   \n",
       "8246    [Action, Adventure, Animation, Children, Comedy]   \n",
       "359    [Adventure, Animation, Children, Drama, Musica...   \n",
       "\n",
       "                     clean_title  \n",
       "0                 Toy Story 1995  \n",
       "3021            Toy Story 2 1999  \n",
       "2264           Bug's Life A 1998  \n",
       "14813           Toy Story 3 2010  \n",
       "4780           Monsters Inc 2001  \n",
       "580                 Aladdin 1992  \n",
       "6258           Finding Nemo 2003  \n",
       "587    Beauty and the Beast 1991  \n",
       "8246        Incredibles The 2004  \n",
       "359           Lion King The 1994  "
      ]
     },
     "execution_count": 60,
     "metadata": {},
     "output_type": "execute_result"
    }
   ],
   "source": [
    "# Get 10 highest recommendation score\n",
    "recomm_score.head(10).merge(movies, left_index=True, right_on='movieId')"
   ]
  },
  {
   "cell_type": "markdown",
   "id": "6a500557",
   "metadata": {},
   "source": [
    "## Recommendation function"
   ]
  },
  {
   "cell_type": "code",
   "execution_count": 61,
   "id": "0ec47f2e",
   "metadata": {},
   "outputs": [],
   "source": [
    "# Build a function to recommend movies\n",
    "def recommend_movie(movie_id):\n",
    "    # Find movies that similar users liked\n",
    "    similar_users = ratings[(ratings['movieId'] == movie_id) & (ratings['rating'] > 4)]['userId'].unique()\n",
    "    similar_recomm = ratings[(ratings['userId'].isin(similar_users)) & (ratings['rating'] > 4)]['movieId']\n",
    "    similar_recomm = similar_recomm.value_counts() / len(similar_users)\n",
    "    similar_recomm = similar_recomm[similar_recomm > 0.1]\n",
    "    \n",
    "    # Find movies that all users liked\n",
    "    all_users = ratings[(ratings['movieId'].isin(similar_recomm.index)) & (ratings['rating'] > 4)]\n",
    "    all_users_recomm = all_users['movieId'].value_counts() / len(all_users['userId'].unique())\n",
    "\n",
    "    # Generate recommendation score\n",
    "    recomm_score = pd.concat([similar_recomm, all_users_recomm], axis=1)\n",
    "    recomm_score.columns = ['similar_users', 'all_users']\n",
    "    \n",
    "    recomm_score['score'] = recomm_score['similar_users']/ recomm_score['all_users']\n",
    "    recomm_score = recomm_score.sort_values('score', ascending=False)\n",
    "    \n",
    "    return recomm_score.head(10).merge(movies, left_index=True, right_on='movieId')[['score', 'title', 'genres']]"
   ]
  },
  {
   "cell_type": "code",
   "execution_count": 62,
   "id": "b35a4b94",
   "metadata": {},
   "outputs": [
    {
     "data": {
      "application/vnd.jupyter.widget-view+json": {
       "model_id": "05db55b27b3a440ca44c187dd1ad58c3",
       "version_major": 2,
       "version_minor": 0
      },
      "text/plain": [
       "Text(value='Apollo 13', description='Movie title:')"
      ]
     },
     "metadata": {},
     "output_type": "display_data"
    },
    {
     "data": {
      "application/vnd.jupyter.widget-view+json": {
       "model_id": "aaf8c3f2d13a41b991e9af17e3751126",
       "version_major": 2,
       "version_minor": 0
      },
      "text/plain": [
       "Output()"
      ]
     },
     "metadata": {},
     "output_type": "display_data"
    }
   ],
   "source": [
    "# Search bar to get movie recommendations\n",
    "movie_input_name = widgets.Text(value=\"Apollo 13\", description=\"Movie title:\", disabled=False)\n",
    "\n",
    "recommendation_list = widgets.Output()\n",
    "\n",
    "def on_type(data):\n",
    "    with recommendation_list:\n",
    "        recommendation_list.clear_output()\n",
    "        title = data[\"new\"]\n",
    "        if len(title) > 5:\n",
    "            results = search_func(title)\n",
    "            movie_id = results.iloc[0]['movieId']\n",
    "            display(recommend_movie(movie_id))\n",
    "            \n",
    "movie_input_name.observe(on_type, names=\"value\")\n",
    "\n",
    "display(movie_input_name, recommendation_list)"
   ]
  },
  {
   "cell_type": "markdown",
   "id": "df63025e",
   "metadata": {},
   "source": [
    "## Model 3: Item-item Recommendations with k-Nearest Neighbors"
   ]
  },
  {
   "cell_type": "markdown",
   "id": "635c82c3",
   "metadata": {},
   "source": [
    "## Utility matrix"
   ]
  },
  {
   "cell_type": "code",
   "execution_count": 64,
   "id": "c30606d8",
   "metadata": {},
   "outputs": [],
   "source": [
    "# Create utility matrix\n",
    "from scipy.sparse import csr_matrix\n",
    "\n",
    "def create_X(df):\n",
    "    M = df['userId'].nunique()\n",
    "    N = df['movieId'].nunique()\n",
    "    user_mapper = dict(zip(np.unique(df[\"userId\"]), list(range(M))))\n",
    "    movie_mapper = dict(zip(np.unique(df[\"movieId\"]), list(range(N))))\n",
    "    \n",
    "    user_inv_mapper = dict(zip(list(range(M)), np.unique(df[\"userId\"])))\n",
    "    movie_inv_mapper = dict(zip(list(range(N)), np.unique(df[\"movieId\"])))\n",
    "    \n",
    "    user_index = [user_mapper[i] for i in df['userId']]\n",
    "    item_index = [movie_mapper[i] for i in df['movieId']]\n",
    "\n",
    "    X = csr_matrix((df[\"rating\"], (user_index,item_index)), shape=(M,N))\n",
    "    \n",
    "    return X, user_mapper, movie_mapper, user_inv_mapper, movie_inv_mapper\n",
    "\n",
    "X, user_mapper, movie_mapper, user_inv_mapper, movie_inv_mapper = create_X(ratings)"
   ]
  },
  {
   "cell_type": "code",
   "execution_count": 65,
   "id": "232550ca",
   "metadata": {},
   "outputs": [
    {
     "data": {
      "text/plain": [
       "(162541, 59047)"
      ]
     },
     "execution_count": 65,
     "metadata": {},
     "output_type": "execute_result"
    }
   ],
   "source": [
    "X.shape"
   ]
  },
  {
   "cell_type": "markdown",
   "id": "95c08df1",
   "metadata": {},
   "source": [
    "The utility matrix has 162541 users and 59047 movies"
   ]
  },
  {
   "cell_type": "markdown",
   "id": "8b615cff",
   "metadata": {},
   "source": [
    "## Evaluating sparsity"
   ]
  },
  {
   "cell_type": "code",
   "execution_count": 66,
   "id": "3571c7fc",
   "metadata": {},
   "outputs": [
    {
     "name": "stdout",
     "output_type": "stream",
     "text": [
      "Matrix sparsity: 0.26%\n"
     ]
    }
   ],
   "source": [
    "n_total = X.shape[0]*X.shape[1]\n",
    "n_ratings = X.nnz\n",
    "sparsity = n_ratings/n_total\n",
    "print(f\"Matrix sparsity: {round(sparsity*100,2)}%\")"
   ]
  },
  {
   "cell_type": "code",
   "execution_count": 68,
   "id": "cb862e0e",
   "metadata": {},
   "outputs": [
    {
     "name": "stdout",
     "output_type": "stream",
     "text": [
      "Most active user rated 32202 movies.\n",
      "Least active user rated 20 movies.\n"
     ]
    }
   ],
   "source": [
    "n_ratings_per_user = X.getnnz(axis=1)\n",
    "\n",
    "print(f\"Most active user rated {n_ratings_per_user.max()} movies.\")\n",
    "print(f\"Least active user rated {n_ratings_per_user.min()} movies.\")"
   ]
  },
  {
   "cell_type": "code",
   "execution_count": 69,
   "id": "9299c6c1",
   "metadata": {},
   "outputs": [
    {
     "name": "stdout",
     "output_type": "stream",
     "text": [
      "Most rated movie has 81491 ratings.\n",
      "Least rated movie has 1 ratings.\n"
     ]
    }
   ],
   "source": [
    "n_ratings_per_movie = X.getnnz(axis=0)\n",
    "\n",
    "print(f\"Most rated movie has {n_ratings_per_movie.max()} ratings.\")\n",
    "print(f\"Least rated movie has {n_ratings_per_movie.min()} ratings.\")"
   ]
  },
  {
   "cell_type": "markdown",
   "id": "730c574c",
   "metadata": {},
   "source": [
    "So, we don't have the cold start problem where there are new users or movies in the matrix. Here least active user rated 20 movies and least rated movie has 1 rating "
   ]
  },
  {
   "cell_type": "code",
   "execution_count": 70,
   "id": "dd8e5e4b",
   "metadata": {
    "scrolled": true
   },
   "outputs": [
    {
     "data": {
      "image/png": "[encoded data removed]",
      "text/plain": [
       "<Figure size 1600x400 with 2 Axes>"
      ]
     },
     "metadata": {},
     "output_type": "display_data"
    }
   ],
   "source": [
    "# Distribution of number of ratings per user and number of ratings per movie\n",
    "plt.figure(figsize=(16,4))\n",
    "plt.subplot(1,2,1)\n",
    "sns.kdeplot(n_ratings_per_user, fill=True)\n",
    "plt.xlim(0, 2000)\n",
    "plt.title(\"Number of Ratings Per User\", fontsize=14)\n",
    "plt.xlabel(\"number of ratings per user\")\n",
    "plt.ylabel(\"density\")\n",
    "\n",
    "plt.subplot(1,2,2)\n",
    "sns.kdeplot(n_ratings_per_movie, fill=True)\n",
    "plt.xlim(0, 3000)\n",
    "plt.title(\"Number of Ratings Per Movie\", fontsize=14)\n",
    "plt.xlabel(\"number of ratings per movie\")\n",
    "plt.ylabel(\"density\")\n",
    "plt.show()"
   ]
  },
  {
   "cell_type": "markdown",
   "id": "c79d7afd",
   "metadata": {},
   "source": [
    "## KNN recommendation function"
   ]
  },
  {
   "cell_type": "code",
   "execution_count": 71,
   "id": "804a1790",
   "metadata": {},
   "outputs": [],
   "source": [
    "from sklearn.neighbors import NearestNeighbors\n",
    "\n",
    "def find_similar_movies_knn(movie_id, X, movie_mapper, movie_inv_mapper, k, metric='cosine'):\n",
    "\n",
    "    X = X.T\n",
    "    neighbour_ids = []\n",
    "    \n",
    "    movie_ind = movie_mapper[movie_id]\n",
    "    movie_vec = X[movie_ind]\n",
    "    if isinstance(movie_vec, (np.ndarray)):\n",
    "        movie_vec = movie_vec.reshape(1,-1)\n",
    "    # use k+1 since kNN output includes the movieId of interest\n",
    "    kNN = NearestNeighbors(n_neighbors=k+1, algorithm=\"brute\", metric=metric)\n",
    "    kNN.fit(X)\n",
    "    neighbour = kNN.kneighbors(movie_vec, return_distance=False)\n",
    "    for i in range(0,k):\n",
    "        n = neighbour.item(i)\n",
    "        neighbour_ids.append(movie_inv_mapper[n])\n",
    "    neighbour_ids.pop(0)\n",
    "    return neighbour_ids"
   ]
  },
  {
   "cell_type": "code",
   "execution_count": 72,
   "id": "a73220b6",
   "metadata": {},
   "outputs": [],
   "source": [
    "genres = set(g for G in movies['genres'] for g in G)\n",
    "\n",
    "for g in genres:\n",
    "    movies[g] = movies.genres.transform(lambda x: int(g in x))\n",
    "    \n",
    "movie_genres = movies.drop(columns=['movieId', 'title','genres', 'clean_title'])"
   ]
  },
  {
   "cell_type": "code",
   "execution_count": 73,
   "id": "1a5e2d39",
   "metadata": {},
   "outputs": [
    {
     "data": {
      "text/html": [
       "<div>\n",
       "<style scoped>\n",
       "    .dataframe tbody tr th:only-of-type {\n",
       "        vertical-align: middle;\n",
       "    }\n",
       "\n",
       "    .dataframe tbody tr th {\n",
       "        vertical-align: top;\n",
       "    }\n",
       "\n",
       "    .dataframe thead th {\n",
       "        text-align: right;\n",
       "    }\n",
       "</style>\n",
       "<table border=\"1\" class=\"dataframe\">\n",
       "  <thead>\n",
       "    <tr style=\"text-align: right;\">\n",
       "      <th></th>\n",
       "      <th>(no genres listed)</th>\n",
       "      <th>Sci-Fi</th>\n",
       "      <th>Documentary</th>\n",
       "      <th>Romance</th>\n",
       "      <th>Mystery</th>\n",
       "      <th>Fantasy</th>\n",
       "      <th>Animation</th>\n",
       "      <th>Children</th>\n",
       "      <th>Adventure</th>\n",
       "      <th>Drama</th>\n",
       "      <th>Thriller</th>\n",
       "      <th>Musical</th>\n",
       "      <th>Action</th>\n",
       "      <th>Horror</th>\n",
       "      <th>War</th>\n",
       "      <th>IMAX</th>\n",
       "      <th>Film-Noir</th>\n",
       "      <th>Crime</th>\n",
       "      <th>Comedy</th>\n",
       "      <th>Western</th>\n",
       "    </tr>\n",
       "  </thead>\n",
       "  <tbody>\n",
       "    <tr>\n",
       "      <th>0</th>\n",
       "      <td>0</td>\n",
       "      <td>0</td>\n",
       "      <td>0</td>\n",
       "      <td>0</td>\n",
       "      <td>0</td>\n",
       "      <td>1</td>\n",
       "      <td>1</td>\n",
       "      <td>1</td>\n",
       "      <td>1</td>\n",
       "      <td>0</td>\n",
       "      <td>0</td>\n",
       "      <td>0</td>\n",
       "      <td>0</td>\n",
       "      <td>0</td>\n",
       "      <td>0</td>\n",
       "      <td>0</td>\n",
       "      <td>0</td>\n",
       "      <td>0</td>\n",
       "      <td>1</td>\n",
       "      <td>0</td>\n",
       "    </tr>\n",
       "    <tr>\n",
       "      <th>1</th>\n",
       "      <td>0</td>\n",
       "      <td>0</td>\n",
       "      <td>0</td>\n",
       "      <td>0</td>\n",
       "      <td>0</td>\n",
       "      <td>1</td>\n",
       "      <td>0</td>\n",
       "      <td>1</td>\n",
       "      <td>1</td>\n",
       "      <td>0</td>\n",
       "      <td>0</td>\n",
       "      <td>0</td>\n",
       "      <td>0</td>\n",
       "      <td>0</td>\n",
       "      <td>0</td>\n",
       "      <td>0</td>\n",
       "      <td>0</td>\n",
       "      <td>0</td>\n",
       "      <td>0</td>\n",
       "      <td>0</td>\n",
       "    </tr>\n",
       "    <tr>\n",
       "      <th>2</th>\n",
       "      <td>0</td>\n",
       "      <td>0</td>\n",
       "      <td>0</td>\n",
       "      <td>1</td>\n",
       "      <td>0</td>\n",
       "      <td>0</td>\n",
       "      <td>0</td>\n",
       "      <td>0</td>\n",
       "      <td>0</td>\n",
       "      <td>0</td>\n",
       "      <td>0</td>\n",
       "      <td>0</td>\n",
       "      <td>0</td>\n",
       "      <td>0</td>\n",
       "      <td>0</td>\n",
       "      <td>0</td>\n",
       "      <td>0</td>\n",
       "      <td>0</td>\n",
       "      <td>1</td>\n",
       "      <td>0</td>\n",
       "    </tr>\n",
       "    <tr>\n",
       "      <th>3</th>\n",
       "      <td>0</td>\n",
       "      <td>0</td>\n",
       "      <td>0</td>\n",
       "      <td>1</td>\n",
       "      <td>0</td>\n",
       "      <td>0</td>\n",
       "      <td>0</td>\n",
       "      <td>0</td>\n",
       "      <td>0</td>\n",
       "      <td>1</td>\n",
       "      <td>0</td>\n",
       "      <td>0</td>\n",
       "      <td>0</td>\n",
       "      <td>0</td>\n",
       "      <td>0</td>\n",
       "      <td>0</td>\n",
       "      <td>0</td>\n",
       "      <td>0</td>\n",
       "      <td>1</td>\n",
       "      <td>0</td>\n",
       "    </tr>\n",
       "    <tr>\n",
       "      <th>4</th>\n",
       "      <td>0</td>\n",
       "      <td>0</td>\n",
       "      <td>0</td>\n",
       "      <td>0</td>\n",
       "      <td>0</td>\n",
       "      <td>0</td>\n",
       "      <td>0</td>\n",
       "      <td>0</td>\n",
       "      <td>0</td>\n",
       "      <td>0</td>\n",
       "      <td>0</td>\n",
       "      <td>0</td>\n",
       "      <td>0</td>\n",
       "      <td>0</td>\n",
       "      <td>0</td>\n",
       "      <td>0</td>\n",
       "      <td>0</td>\n",
       "      <td>0</td>\n",
       "      <td>1</td>\n",
       "      <td>0</td>\n",
       "    </tr>\n",
       "  </tbody>\n",
       "</table>\n",
       "</div>"
      ],
      "text/plain": [
       "   (no genres listed)  Sci-Fi  Documentary  Romance  Mystery  Fantasy  \\\n",
       "0                   0       0            0        0        0        1   \n",
       "1                   0       0            0        0        0        1   \n",
       "2                   0       0            0        1        0        0   \n",
       "3                   0       0            0        1        0        0   \n",
       "4                   0       0            0        0        0        0   \n",
       "\n",
       "   Animation  Children  Adventure  Drama  Thriller  Musical  Action  Horror  \\\n",
       "0          1         1          1      0         0        0       0       0   \n",
       "1          0         1          1      0         0        0       0       0   \n",
       "2          0         0          0      0         0        0       0       0   \n",
       "3          0         0          0      1         0        0       0       0   \n",
       "4          0         0          0      0         0        0       0       0   \n",
       "\n",
       "   War  IMAX  Film-Noir  Crime  Comedy  Western  \n",
       "0    0     0          0      0       1        0  \n",
       "1    0     0          0      0       0        0  \n",
       "2    0     0          0      0       1        0  \n",
       "3    0     0          0      0       1        0  \n",
       "4    0     0          0      0       1        0  "
      ]
     },
     "execution_count": 73,
     "metadata": {},
     "output_type": "execute_result"
    }
   ],
   "source": [
    "movie_genres.head()"
   ]
  },
  {
   "cell_type": "code",
   "execution_count": 74,
   "id": "43e43815",
   "metadata": {},
   "outputs": [
    {
     "data": {
      "text/plain": [
       "(62423, 20)"
      ]
     },
     "execution_count": 74,
     "metadata": {},
     "output_type": "execute_result"
    }
   ],
   "source": [
    "movie_genres.shape"
   ]
  },
  {
   "cell_type": "markdown",
   "id": "5c4358f6",
   "metadata": {},
   "source": [
    "I sampled 20% of the data to work with a smaller subset as I was running out of memory when creating the recommendation engine"
   ]
  },
  {
   "cell_type": "code",
   "execution_count": 75,
   "id": "b83bf68d",
   "metadata": {},
   "outputs": [
    {
     "data": {
      "text/plain": [
       "(12484, 20)"
      ]
     },
     "execution_count": 75,
     "metadata": {},
     "output_type": "execute_result"
    }
   ],
   "source": [
    "# Subset movie genre to compute matrix calculations\n",
    "subset_size = int(len(movie_genres)*0.2)\n",
    "\n",
    "movie_genres = movie_genres.sample(n=subset_size, random_state=45)\n",
    "movie_genres.shape"
   ]
  },
  {
   "cell_type": "code",
   "execution_count": 76,
   "id": "c73263d1",
   "metadata": {},
   "outputs": [],
   "source": [
    "# Create cosine similarity matrix\n",
    "cosine_sim = cosine_similarity(movie_genres, movie_genres)"
   ]
  },
  {
   "cell_type": "code",
   "execution_count": 77,
   "id": "57c8b4d3",
   "metadata": {},
   "outputs": [
    {
     "data": {
      "text/plain": [
       "(12484, 12484)"
      ]
     },
     "execution_count": 77,
     "metadata": {},
     "output_type": "execute_result"
    }
   ],
   "source": [
    "cosine_sim.shape"
   ]
  },
  {
   "cell_type": "markdown",
   "id": "80013afe",
   "metadata": {},
   "source": [
    "The movie titles have year included. If users don't enter the exact title including year or misspell words, the recommendation algorithm will not work. To work around this problem, I used fuzzywuzzy library which identifies the most similar string even when titles are misspelled. It will make the function more user-friendly"
   ]
  },
  {
   "cell_type": "code",
   "execution_count": 78,
   "id": "bf2bc8c6",
   "metadata": {},
   "outputs": [
    {
     "name": "stderr",
     "output_type": "stream",
     "text": [
      "C:\\Users\\ASUS ZenBooK\\AppData\\Roaming\\Python\\Python311\\site-packages\\fuzzywuzzy\\fuzz.py:11: UserWarning: Using slow pure-python SequenceMatcher. Install python-Levenshtein to remove this warning\n",
      "  warnings.warn('Using slow pure-python SequenceMatcher. Install python-Levenshtein to remove this warning')\n"
     ]
    }
   ],
   "source": [
    "from fuzzywuzzy import process\n",
    "\n",
    "def movie_finder(title):\n",
    "    all_titles = movies['title'].tolist()\n",
    "    closest_match = process.extractOne(title,all_titles)\n",
    "    return closest_match[0]"
   ]
  },
  {
   "cell_type": "markdown",
   "id": "6098d7fc",
   "metadata": {},
   "source": [
    "Let's test this out with intentionally misspelled 'Casper' as 'Cesper' example"
   ]
  },
  {
   "cell_type": "code",
   "execution_count": 79,
   "id": "1de660da",
   "metadata": {},
   "outputs": [
    {
     "data": {
      "text/plain": [
       "'Casper (1995)'"
      ]
     },
     "execution_count": 79,
     "metadata": {},
     "output_type": "execute_result"
    }
   ],
   "source": [
    "title = movie_finder('cesper')\n",
    "title"
   ]
  },
  {
   "cell_type": "markdown",
   "id": "70acc408",
   "metadata": {},
   "source": [
    "The function was able to correctly identify misspelled movie title 'Cesper' instead of 'Casper'"
   ]
  },
  {
   "cell_type": "code",
   "execution_count": 80,
   "id": "efbe7944",
   "metadata": {},
   "outputs": [
    {
     "name": "stdout",
     "output_type": "stream",
     "text": [
      "Movie index for Casper: 156\n"
     ]
    }
   ],
   "source": [
    "# create a movie index dictionary where the keys are movie titles and values are movie indices\n",
    "movie_idx = dict(zip(movies['title'], list(movies.index)))\n",
    "idx = movie_idx[title]\n",
    "print(f\"Movie index for Casper: {idx}\")"
   ]
  },
  {
   "cell_type": "code",
   "execution_count": 81,
   "id": "05db4d7c",
   "metadata": {},
   "outputs": [],
   "source": [
    "# function which takes in the movie title of interest and outputs the desired number of recommendations\n",
    "def get_content_based_recommendations(title_string, n_recommendations=10):\n",
    "    title = movie_finder(title_string)\n",
    "    idx = movie_idx[title]\n",
    "    sim_scores = list(enumerate(cosine_sim[idx]))\n",
    "    sim_scores = sorted(sim_scores, key=lambda x: x[1], reverse=True)\n",
    "    sim_scores = sim_scores[1:(n_recommendations+1)]\n",
    "    similar_movies = [i[0] for i in sim_scores]\n",
    "    print(f\"Because you watched {title}:\")\n",
    "    print(movies['title'].iloc[similar_movies])\n"
   ]
  },
  {
   "cell_type": "code",
   "execution_count": 82,
   "id": "b5146c56",
   "metadata": {},
   "outputs": [
    {
     "name": "stdout",
     "output_type": "stream",
     "text": [
      "Because you watched Toy Story (1995):\n",
      "7    Tom and Huck (1995)\n",
      "Name: title, dtype: object\n"
     ]
    }
   ],
   "source": [
    "# Get top recommendation for Toy story\n",
    "get_content_based_recommendations('Toy story', 1)"
   ]
  }
 ],
 "metadata": {
  "kernelspec": {
   "display_name": "Python 3 (ipykernel)",
   "language": "python",
   "name": "python3"
  },
  "language_info": {
   "codemirror_mode": {
    "name": "ipython",
    "version": 3
   },
   "file_extension": ".py",
   "mimetype": "text/x-python",
   "name": "python",
   "nbconvert_exporter": "python",
   "pygments_lexer": "ipython3",
   "version": "3.11.4"
  }
 },
 "nbformat": 4,
 "nbformat_minor": 5
}
